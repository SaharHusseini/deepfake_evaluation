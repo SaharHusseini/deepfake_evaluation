{
 "cells": [
  {
   "cell_type": "markdown",
   "metadata": {},
   "source": [
    "This script can be used to render the generated point cloud with specific camera parameters"
   ]
  },
  {
   "cell_type": "code",
   "execution_count": 39,
   "metadata": {},
   "outputs": [],
   "source": [
    "import src.renderer as renderer\n",
    "import src.render_point_cloud as renderer2\n",
    "import src.utility as util\n",
    "import cv2\n",
    "import src.Rotation_matrix as rotation\n",
    "import os\n",
    "import numpy as np\n",
    "os.environ['PYOPENGL_PLATFORM'] = 'egl'"
   ]
  },
  {
   "cell_type": "code",
   "execution_count": 40,
   "metadata": {},
   "outputs": [],
   "source": [
    "# load the aligned multi-view model\n",
    "id = 212\n",
    "expression = \"1_neutral\"\n",
    "mview_mesh = os.path.join(\"./demo_output\",str(id)+'_'+expression+\"_\"+\"canonical.ply\")\n"
   ]
  },
  {
   "cell_type": "code",
   "execution_count": 41,
   "metadata": {},
   "outputs": [
    {
     "data": {
      "text/plain": [
       "array([3.14159265, 0.        , 0.        ])"
      ]
     },
     "execution_count": 41,
     "metadata": {},
     "output_type": "execute_result"
    }
   ],
   "source": [
    "# set camera parameters\n",
    "K = np.array([[1000, 0, 128],\n",
    "              [0, 1000, 128],\n",
    "              [0, 0, 1]], dtype=np.float64)\n",
    "\n",
    "R =np.asarray([[1,  0,  0],\n",
    "                [0, -1,  0],\n",
    "                [ 0, 0,  -1]])\n",
    "t = [0,0,1200]\n",
    "euler_vector = rotation.rotationMatrixToEulerAngles(R)\n",
    "euler_vector"
   ]
  },
  {
   "cell_type": "code",
   "execution_count": 42,
   "metadata": {},
   "outputs": [],
   "source": [
    "\n",
    "r = [3.14159, 0, 0]\n",
    "euler_vector = np.asarray(r)"
   ]
  },
  {
   "cell_type": "code",
   "execution_count": 43,
   "metadata": {},
   "outputs": [
    {
     "data": {
      "text/plain": [
       "array([[ 1.00000000e+00,  0.00000000e+00,  0.00000000e+00],\n",
       "       [ 0.00000000e+00, -1.00000000e+00, -2.65358979e-06],\n",
       "       [ 0.00000000e+00,  2.65358979e-06, -1.00000000e+00]])"
      ]
     },
     "execution_count": 43,
     "metadata": {},
     "output_type": "execute_result"
    }
   ],
   "source": [
    "#convert euler angle to rotation matrix\n",
    "rotation_matrix = rotation.eulerAnglesToRotationMatrix(euler_vector)\n",
    "rotation_matrix"
   ]
  },
  {
   "cell_type": "code",
   "execution_count": 44,
   "metadata": {},
   "outputs": [
    {
     "data": {
      "text/plain": [
       "array([0., 0., 0.])"
      ]
     },
     "execution_count": 44,
     "metadata": {},
     "output_type": "execute_result"
    }
   ],
   "source": [
    "mesh_pose = [[1, 0, 0],\n",
    "            [0, 1, 0],\n",
    "            [0, 0, 1],\n",
    "            [0, 0, 0]]\n",
    "\n",
    "rotation.rotationMatrixToEulerAngles(np.array(mesh_pose))"
   ]
  },
  {
   "cell_type": "code",
   "execution_count": 56,
   "metadata": {},
   "outputs": [],
   "source": [
    "#rotation around combination of pitch and yaw\n",
    "path = \"./rotation/rotation_pitch_yaw_x_y\"+str(id)+'_'+expression\n",
    "if not os.path.exists(path):\n",
    "    os.makedirs(path)\n",
    "r = [3.14159, 0, 0]\n",
    "for i in range(100):\n",
    "    euler_vector = np.asarray(r)\n",
    "    rotation_matrix = rotation.eulerAnglesToRotationMatrix(euler_vector)\n",
    "    Rt = np.eye(3,4)\n",
    "\n",
    "    Rt[0][:3]= rotation_matrix[0][:3]\n",
    "    Rt[0][3] = t[0]\n",
    "\n",
    "    Rt[1][:3]= rotation_matrix[1][:3]\n",
    "    Rt[1][3] = t[1]\n",
    "\n",
    "    Rt[2][:3]= rotation_matrix[2][:3]\n",
    "    Rt[2][3] = t[2]\n",
    "  \n",
    "    h, w = 256, 256\n",
    "    _, rend_mview_model = renderer2.render_cvcam(mview_mesh, K, Rt, rend_size=(h, w), flat_shading=True)\n",
    "\n",
    "    text = [str(Rt[0][3]),str(Rt[1][3]), str(Rt[2][3]),str(euler_vector[0]),str(euler_vector[1]), str(euler_vector[2])]\n",
    "    name = '_'.join(text)\n",
    "    cv2.imwrite(path+'/'+name+'_'+str(i)+\".jpeg\", rend_mview_model)\n",
    "    r[0] = r[0]+0.005\n",
    "    r[1] = r[1]+0.005"
   ]
  },
  {
   "cell_type": "code",
   "execution_count": 46,
   "metadata": {},
   "outputs": [],
   "source": [
    "path = \"./rotation/rotation_pitch_yaw_x_y_negative\"+str(id)+'_'+expression\n",
    "if not os.path.exists(path):\n",
    "    os.makedirs(path)\n",
    "r = [3.14159, 0, 0]\n",
    "for i in range(100):\n",
    "    euler_vector = np.asarray(r)\n",
    "    rotation_matrix = rotation.eulerAnglesToRotationMatrix(euler_vector)\n",
    "    Rt = np.eye(3,4)\n",
    "\n",
    "    Rt[0][:3]= rotation_matrix[0][:3]\n",
    "    Rt[0][3] = t[0]\n",
    "\n",
    "    Rt[1][:3]= rotation_matrix[1][:3]\n",
    "    Rt[1][3] = t[1]\n",
    "\n",
    "    Rt[2][:3]= rotation_matrix[2][:3]\n",
    "    Rt[2][3] = t[2]\n",
    "  \n",
    "    h, w = 256, 256\n",
    "    _, rend_mview_model = renderer2.render_cvcam(mview_mesh, K, Rt, rend_size=(h, w), flat_shading=True)\n",
    "\n",
    "    text = [str(Rt[0][3]),str(Rt[1][3]), str(Rt[2][3]),str(euler_vector[0]),str(euler_vector[1]), str(euler_vector[2])]\n",
    "    name = '_'.join(text)\n",
    "    cv2.imwrite(path+'/'+name+'_'+str(i)+\".jpeg\", rend_mview_model)\n",
    "    r[0] = r[0]-0.005\n",
    "    r[1] = r[1]-0.005\n",
    "   "
   ]
  },
  {
   "cell_type": "code",
   "execution_count": 47,
   "metadata": {},
   "outputs": [],
   "source": [
    "#rotation around pitch\n",
    "path = \"./rotation/rotation_pitch_x\"+str(id)+'_'+expression\n",
    "if not os.path.exists(path):\n",
    "    os.makedirs(path)\n",
    "r = [3.14159, 0, 0]\n",
    "j = 0\n",
    "for i in range(100):\n",
    "    euler_vector = np.asarray(r)\n",
    "    rotation_matrix = rotation.eulerAnglesToRotationMatrix(euler_vector)\n",
    "    Rt = np.eye(3,4)\n",
    "\n",
    "    Rt[0][:3]= rotation_matrix[0][:3]\n",
    "    Rt[0][3] = t[0]\n",
    "\n",
    "    Rt[1][:3]= rotation_matrix[1][:3]\n",
    "    Rt[1][3] = t[1]\n",
    "\n",
    "    Rt[2][:3]= rotation_matrix[2][:3]\n",
    "    Rt[2][3] = t[2]\n",
    "  \n",
    "    h, w = 256, 256\n",
    "    _, rend_mview_model = renderer2.render_cvcam(mview_mesh, K, Rt, rend_size=(h, w), flat_shading=True)\n",
    "\n",
    "    text = [str(Rt[0][3]),str(Rt[1][3]), str(Rt[2][3]),str(euler_vector[0]),str(euler_vector[1]), str(euler_vector[2])]\n",
    "    name = '_'.join(text)\n",
    "    cv2.imwrite(path+'/'+name+'_'+str(i)+\".jpeg\", rend_mview_model)\n",
    "    r[0] = r[0]+0.005\n",
    "    \n",
    "    "
   ]
  },
  {
   "cell_type": "code",
   "execution_count": 48,
   "metadata": {},
   "outputs": [],
   "source": [
    "path = \"./rotation/rotation_pitch_x\"+str(id)+'_'+expression+'_'+\"negative\"\n",
    "if not os.path.exists(path):\n",
    "    os.makedirs(path)\n",
    "r = [3.14159, 0, 0]\n",
    "j = 0\n",
    "for i in range(100):\n",
    "    euler_vector = np.asarray(r)\n",
    "    rotation_matrix = rotation.eulerAnglesToRotationMatrix(euler_vector)\n",
    "    Rt = np.eye(3,4)\n",
    "\n",
    "    Rt[0][:3]= rotation_matrix[0][:3]\n",
    "    Rt[0][3] = t[0]\n",
    "\n",
    "    Rt[1][:3]= rotation_matrix[1][:3]\n",
    "    Rt[1][3] = t[1]\n",
    "\n",
    "    Rt[2][:3]= rotation_matrix[2][:3]\n",
    "    Rt[2][3] = t[2]\n",
    "  \n",
    "    h, w = 256, 256\n",
    "    _, rend_mview_model = renderer2.render_cvcam(mview_mesh, K, Rt, rend_size=(h, w), flat_shading=True)\n",
    "\n",
    "    text = [str(Rt[0][3]),str(Rt[1][3]), str(Rt[2][3]),str(euler_vector[0]),str(euler_vector[1]), str(euler_vector[2])]\n",
    "    name = '_'.join(text)\n",
    "    cv2.imwrite(path+'/'+name+'_'+str(i)+\".jpeg\", rend_mview_model)\n",
    "    r[0] = r[0]-0.005"
   ]
  },
  {
   "cell_type": "code",
   "execution_count": 49,
   "metadata": {},
   "outputs": [],
   "source": [
    "path = \"./rotation/rotation_yaw_y\"+str(id)+'_'+expression+'_'+\"negative\"\n",
    "if not os.path.exists(path):\n",
    "    os.makedirs(path)\n",
    "r = [3.14159, 0, 0]\n",
    "j = 0\n",
    "for i in range(100):\n",
    "    euler_vector = np.asarray(r)\n",
    "    rotation_matrix = rotation.eulerAnglesToRotationMatrix(euler_vector)\n",
    "    Rt = np.eye(3,4)\n",
    "\n",
    "    Rt[0][:3]= rotation_matrix[0][:3]\n",
    "    Rt[0][3] = t[0]\n",
    "\n",
    "    Rt[1][:3]= rotation_matrix[1][:3]\n",
    "    Rt[1][3] = t[1]\n",
    "\n",
    "    Rt[2][:3]= rotation_matrix[2][:3]\n",
    "    Rt[2][3] = t[2]\n",
    "  \n",
    "    h, w = 256, 256\n",
    "    _, rend_mview_model = renderer2.render_cvcam(mview_mesh, K, Rt, rend_size=(h, w), flat_shading=True)\n",
    "\n",
    "    text = [str(Rt[0][3]),str(Rt[1][3]), str(Rt[2][3]),str(euler_vector[0]),str(euler_vector[1]), str(euler_vector[2])]\n",
    "    name = '_'.join(text)\n",
    "    cv2.imwrite(path+'/'+name+\"_\"+str(i)+\".jpeg\", rend_mview_model)\n",
    "    r[1] = r[1]-0.005\n",
    "    "
   ]
  },
  {
   "cell_type": "code",
   "execution_count": 50,
   "metadata": {},
   "outputs": [],
   "source": [
    "path = \"./rotation/rotation_yaw_y\"+str(id)+'_'+expression\n",
    "if not os.path.exists(path):\n",
    "    os.makedirs(path)\n",
    "r = [3.14159, 0, 0]\n",
    "j = 0\n",
    "for i in range(100):\n",
    "    euler_vector = np.asarray(r)\n",
    "    rotation_matrix = rotation.eulerAnglesToRotationMatrix(euler_vector)\n",
    "    Rt = np.eye(3,4)\n",
    "\n",
    "    Rt[0][:3]= rotation_matrix[0][:3]\n",
    "    Rt[0][3] = t[0]\n",
    "\n",
    "    Rt[1][:3]= rotation_matrix[1][:3]\n",
    "    Rt[1][3] = t[1]\n",
    "\n",
    "    Rt[2][:3]= rotation_matrix[2][:3]\n",
    "    Rt[2][3] = t[2]\n",
    "  \n",
    "    h, w = 256, 256\n",
    "    _, rend_mview_model = renderer2.render_cvcam(mview_mesh, K, Rt, rend_size=(h, w), flat_shading=True)\n",
    "\n",
    "    text = [str(Rt[0][3]),str(Rt[1][3]), str(Rt[2][3]),str(euler_vector[0]),str(euler_vector[1]), str(euler_vector[2])]\n",
    "    name = '_'.join(text)\n",
    "    cv2.imwrite(path+'/'+name+\"_\"+str(i)+\".jpeg\", rend_mview_model)\n",
    "    r[1] = r[1]+0.005\n",
    "    "
   ]
  },
  {
   "cell_type": "code",
   "execution_count": 51,
   "metadata": {},
   "outputs": [],
   "source": [
    "path = \"./rotation/rotation_roll_z\"+str(id)+'_'+expression\n",
    "if not os.path.exists(path):\n",
    "    os.makedirs(path)\n",
    "r = [3.14159, 0, 0]\n",
    "j = 0\n",
    "for i in range(100):\n",
    "    euler_vector = np.asarray(r)\n",
    "    rotation_matrix = rotation.eulerAnglesToRotationMatrix(euler_vector)\n",
    "    Rt = np.eye(3,4)\n",
    "\n",
    "    Rt[0][:3]= rotation_matrix[0][:3]\n",
    "    Rt[0][3] = t[0]\n",
    "\n",
    "    Rt[1][:3]= rotation_matrix[1][:3]\n",
    "    Rt[1][3] = t[1]\n",
    "\n",
    "    Rt[2][:3]= rotation_matrix[2][:3]\n",
    "    Rt[2][3] = t[2]\n",
    "  \n",
    "    h, w = 256, 256\n",
    "    _, rend_mview_model = renderer2.render_cvcam(mview_mesh, K, Rt, rend_size=(h, w), flat_shading=True)\n",
    "\n",
    "    text = [str(Rt[0][3]),str(Rt[1][3]), str(Rt[2][3]),str(euler_vector[0]),str(euler_vector[1]), str(euler_vector[2])]\n",
    "    name = '_'.join(text)\n",
    "    cv2.imwrite(path+'/'+name+'_'+str(i)+\".jpeg\", rend_mview_model)\n",
    "    r[2] = r[2]+0.005"
   ]
  },
  {
   "cell_type": "code",
   "execution_count": 52,
   "metadata": {},
   "outputs": [],
   "source": [
    "path = \"./rotation/rotation_roll_z\"+str(id)+'_'+expression\n",
    "if not os.path.exists(path):\n",
    "    os.makedirs(path)\n",
    "r = [3.14159, 0, 0]\n",
    "j = 0\n",
    "for i in range(100):\n",
    "    euler_vector = np.asarray(r)\n",
    "    rotation_matrix = rotation.eulerAnglesToRotationMatrix(euler_vector)\n",
    "    Rt = np.eye(3,4)\n",
    "\n",
    "    Rt[0][:3]= rotation_matrix[0][:3]\n",
    "    Rt[0][3] = t[0]\n",
    "\n",
    "    Rt[1][:3]= rotation_matrix[1][:3]\n",
    "    Rt[1][3] = t[1]\n",
    "\n",
    "    Rt[2][:3]= rotation_matrix[2][:3]\n",
    "    Rt[2][3] = t[2]\n",
    "  \n",
    "    h, w = 256, 256\n",
    "    _, rend_mview_model = renderer2.render_cvcam(mview_mesh, K, Rt, rend_size=(h, w), flat_shading=True)\n",
    "\n",
    "    text = [str(Rt[0][3]),str(Rt[1][3]), str(Rt[2][3]),str(euler_vector[0]),str(euler_vector[1]), str(euler_vector[2])]\n",
    "    name = '_'.join(text)\n",
    "    cv2.imwrite(path+'/'+name+'_'+str(i)+\".jpeg\", rend_mview_model)\n",
    "    r[2] = r[2]+0.005"
   ]
  },
  {
   "cell_type": "code",
   "execution_count": 53,
   "metadata": {},
   "outputs": [],
   "source": [
    "#changing translation in x axis. camera moves to the right (plus direction)\n",
    "path = \"./rotation/translation_x\"+str(id)+'_'+expression\n",
    "if not os.path.exists(path):\n",
    "    os.makedirs(path)\n",
    "r = [3.14159, 0, 0]\n",
    "t = [0,0,1200]\n",
    "for i in range(100):\n",
    "    euler_vector = np.asarray(r)\n",
    "    rotation_matrix = rotation.eulerAnglesToRotationMatrix(euler_vector)\n",
    "    Rt = np.eye(3,4)\n",
    "\n",
    "    Rt[0][:3]= rotation_matrix[0][:3]\n",
    "    Rt[0][3] = t[0]\n",
    "    \n",
    "    Rt[1][:3]= rotation_matrix[1][:3]\n",
    "    Rt[1][3] = t[1]\n",
    "\n",
    "    Rt[2][:3]= rotation_matrix[2][:3]\n",
    "    Rt[2][3] = t[2]\n",
    "  \n",
    "    h, w = 256, 256\n",
    "    _, rend_mview_model = renderer2.render_cvcam(mview_mesh, K, Rt, rend_size=(h, w), flat_shading=True)\n",
    "\n",
    "    text = [str(Rt[0][3]),str(Rt[1][3]), str(Rt[2][3]),str(euler_vector[0]),str(euler_vector[1]), str(euler_vector[2])]\n",
    "    name = '_'.join(text)\n",
    "    cv2.imwrite(path+'/'+name+'_'+str(i)+\".jpeg\", rend_mview_model)\n",
    "    t[0] = t[0]+0.20"
   ]
  },
  {
   "cell_type": "code",
   "execution_count": 54,
   "metadata": {},
   "outputs": [],
   "source": [
    "#changing translation in y axis. camera moves upward (plus direction)\n",
    "path = \"./rotation/translation_y\"+str(id)+'_'+expression\n",
    "if not os.path.exists(path):\n",
    "    os.makedirs(path)\n",
    "r = [3.14159, 0, 0]\n",
    "t = [0,0,1200]\n",
    "for i in range(100):\n",
    "    euler_vector = np.asarray(r)\n",
    "    rotation_matrix = rotation.eulerAnglesToRotationMatrix(euler_vector)\n",
    "    Rt = np.eye(3,4)\n",
    "\n",
    "    Rt[0][:3]= rotation_matrix[0][:3]\n",
    "    Rt[0][3] = t[0]\n",
    "\n",
    "    Rt[1][:3]= rotation_matrix[1][:3]\n",
    "    Rt[1][3] = t[1]\n",
    "\n",
    "    Rt[2][:3]= rotation_matrix[2][:3]\n",
    "    Rt[2][3] = t[2]\n",
    "  \n",
    "    h, w = 256, 256\n",
    "    _, rend_mview_model = renderer2.render_cvcam(mview_mesh, K, Rt, rend_size=(h, w), flat_shading=True)\n",
    "\n",
    "    text = [str(Rt[0][3]),str(Rt[1][3]), str(Rt[2][3]),str(euler_vector[0]),str(euler_vector[1]), str(euler_vector[2])]\n",
    "    name = '_'.join(text)\n",
    "    cv2.imwrite(path+'/'+name+'_'+str(i)+\".jpeg\", rend_mview_model)\n",
    "    t[1] = t[1]+0.20"
   ]
  },
  {
   "cell_type": "code",
   "execution_count": 55,
   "metadata": {},
   "outputs": [],
   "source": [
    "#changing translation in z axis. camera moves inside (plus direction)\n",
    "path = \"./rotation/translation_z\"+str(id)+'_'+expression\n",
    "if not os.path.exists(path):\n",
    "    os.makedirs(path)\n",
    "r = [3.14159, 0, 0]\n",
    "t = [0,0,1200]\n",
    "for i in range(100):\n",
    "    euler_vector = np.asarray(r)\n",
    "    rotation_matrix = rotation.eulerAnglesToRotationMatrix(euler_vector)\n",
    "    Rt = np.eye(3,4)\n",
    "\n",
    "    Rt[0][:3]= rotation_matrix[0][:3]\n",
    "    Rt[0][3] = t[0]\n",
    "\n",
    "    Rt[1][:3]= rotation_matrix[1][:3]\n",
    "    Rt[1][3] = t[1]\n",
    "\n",
    "    Rt[2][:3]= rotation_matrix[2][:3]\n",
    "    Rt[2][3] = t[2]\n",
    "  \n",
    "    h, w = 256, 256\n",
    "    _, rend_mview_model = renderer2.render_cvcam(mview_mesh, K, Rt, rend_size=(h, w), flat_shading=True)\n",
    "\n",
    "    text = [str(Rt[0][3]),str(Rt[1][3]), str(Rt[2][3]),str(euler_vector[0]),str(euler_vector[1]), str(euler_vector[2])]\n",
    "    name = '_'.join(text)\n",
    "    cv2.imwrite(path+'/'+name+'_'+str(i)+\".jpeg\", rend_mview_model)\n",
    "    t[2] = t[2]+2.00"
   ]
  }
 ],
 "metadata": {
  "interpreter": {
   "hash": "503b054222855790d41f96a1c0434f6edec976d6d2b2d587ebe9cb34b4025a95"
  },
  "kernelspec": {
   "display_name": "Python 3.10.4",
   "language": "python",
   "name": "python3"
  },
  "language_info": {
   "codemirror_mode": {
    "name": "ipython",
    "version": 3
   },
   "file_extension": ".py",
   "mimetype": "text/x-python",
   "name": "python",
   "nbconvert_exporter": "python",
   "pygments_lexer": "ipython3",
   "version": "3.10.4"
  },
  "orig_nbformat": 4
 },
 "nbformat": 4,
 "nbformat_minor": 2
}
